{
 "cells": [
  {
   "cell_type": "code",
   "execution_count": 1,
   "metadata": {},
   "outputs": [],
   "source": [
    "%matplotlib inline\n",
    "from matplotlib import style\n",
    "style.use('fivethirtyeight')\n",
    "import matplotlib.pyplot as plt"
   ]
  },
  {
   "cell_type": "code",
   "execution_count": 2,
   "metadata": {},
   "outputs": [],
   "source": [
    "import numpy as np\n",
    "import pandas as pd"
   ]
  },
  {
   "cell_type": "code",
   "execution_count": 3,
   "metadata": {},
   "outputs": [],
   "source": [
    "import datetime as dt"
   ]
  },
  {
   "cell_type": "code",
   "execution_count": 4,
   "metadata": {},
   "outputs": [],
   "source": [
    "# Python SQL toolkit and Object Relational Mapper\n",
    "import sqlalchemy\n",
    "from sqlalchemy.ext.automap import automap_base\n",
    "from sqlalchemy.orm import Session\n",
    "from sqlalchemy import create_engine, func"
   ]
  },
  {
   "cell_type": "code",
   "execution_count": 5,
   "metadata": {},
   "outputs": [],
   "source": [
    "engine = create_engine(\"sqlite:///Resources/hawaii.sqlite\")"
   ]
  },
  {
   "cell_type": "code",
   "execution_count": 6,
   "metadata": {},
   "outputs": [],
   "source": [
    "# reflect an existing database into a new model\n",
    "Base = automap_base()\n",
    "# reflect the tables\n",
    "Base.prepare(engine, reflect=True)"
   ]
  },
  {
   "cell_type": "code",
   "execution_count": 7,
   "metadata": {},
   "outputs": [
    {
     "data": {
      "text/plain": [
       "['measurement', 'station']"
      ]
     },
     "execution_count": 7,
     "metadata": {},
     "output_type": "execute_result"
    }
   ],
   "source": [
    "# We can view all of the classes that automap found\n",
    "Base.classes.keys()"
   ]
  },
  {
   "cell_type": "code",
   "execution_count": 8,
   "metadata": {},
   "outputs": [],
   "source": [
    "# Save references to each table\n",
    "Measurement = Base.classes.measurement\n",
    "Station = Base.classes.station"
   ]
  },
  {
   "cell_type": "code",
   "execution_count": 9,
   "metadata": {},
   "outputs": [],
   "source": [
    "# Create our session (link) from Python to the DB\n",
    "session = Session(engine)"
   ]
  },
  {
   "cell_type": "code",
   "execution_count": 10,
   "metadata": {},
   "outputs": [
    {
     "name": "stdout",
     "output_type": "stream",
     "text": [
      "('2017-08-23',)\n"
     ]
    }
   ],
   "source": [
    "# Design a query to retrieve the last 12 months of precipitation data and plot the results\n",
    "# Calculate the date 1 year ago from the last data point in the database\n",
    "\n",
    "last_date = (session.query(Measurement.date).order_by(Measurement.date.desc()).first())\n",
    "print(last_date)"
   ]
  },
  {
   "cell_type": "code",
   "execution_count": 135,
   "metadata": {},
   "outputs": [
    {
     "name": "stdout",
     "output_type": "stream",
     "text": [
      "2016-08-23\n"
     ]
    }
   ],
   "source": [
    "last_year = dt.date(2017, 8, 23) - dt.timedelta(days=365)\n",
    "print(last_year)"
   ]
  },
  {
   "cell_type": "code",
   "execution_count": 136,
   "metadata": {},
   "outputs": [],
   "source": [
    "# Perform a query to retrieve the data and precipitation scores\n",
    "\n",
    "query = session.query(Measurement.date, Measurement.prcp).\\\n",
    "    filter(Measurement.date > last_year).\\\n",
    "    order_by(Measurement.date).all()"
   ]
  },
  {
   "cell_type": "code",
   "execution_count": 137,
   "metadata": {},
   "outputs": [
    {
     "data": {
      "text/html": [
       "<div>\n",
       "<style scoped>\n",
       "    .dataframe tbody tr th:only-of-type {\n",
       "        vertical-align: middle;\n",
       "    }\n",
       "\n",
       "    .dataframe tbody tr th {\n",
       "        vertical-align: top;\n",
       "    }\n",
       "\n",
       "    .dataframe thead th {\n",
       "        text-align: right;\n",
       "    }\n",
       "</style>\n",
       "<table border=\"1\" class=\"dataframe\">\n",
       "  <thead>\n",
       "    <tr style=\"text-align: right;\">\n",
       "      <th></th>\n",
       "      <th>date</th>\n",
       "      <th>prcp</th>\n",
       "    </tr>\n",
       "  </thead>\n",
       "  <tbody>\n",
       "    <tr>\n",
       "      <th>0</th>\n",
       "      <td>2016-08-24</td>\n",
       "      <td>0.08</td>\n",
       "    </tr>\n",
       "    <tr>\n",
       "      <th>1</th>\n",
       "      <td>2016-08-24</td>\n",
       "      <td>2.15</td>\n",
       "    </tr>\n",
       "    <tr>\n",
       "      <th>2</th>\n",
       "      <td>2016-08-24</td>\n",
       "      <td>2.28</td>\n",
       "    </tr>\n",
       "    <tr>\n",
       "      <th>3</th>\n",
       "      <td>2016-08-24</td>\n",
       "      <td>NaN</td>\n",
       "    </tr>\n",
       "    <tr>\n",
       "      <th>4</th>\n",
       "      <td>2016-08-24</td>\n",
       "      <td>1.22</td>\n",
       "    </tr>\n",
       "  </tbody>\n",
       "</table>\n",
       "</div>"
      ],
      "text/plain": [
       "         date  prcp\n",
       "0  2016-08-24  0.08\n",
       "1  2016-08-24  2.15\n",
       "2  2016-08-24  2.28\n",
       "3  2016-08-24   NaN\n",
       "4  2016-08-24  1.22"
      ]
     },
     "execution_count": 137,
     "metadata": {},
     "output_type": "execute_result"
    }
   ],
   "source": [
    "# Save the query results as a Pandas DataFrame and set the index to the date column\n",
    "\n",
    "rain_df = pd.DataFrame(query)\n",
    "rain_df.head()"
   ]
  },
  {
   "cell_type": "code",
   "execution_count": 138,
   "metadata": {},
   "outputs": [],
   "source": [
    "rain_df = rain_df.fillna(0)"
   ]
  },
  {
   "cell_type": "code",
   "execution_count": 139,
   "metadata": {},
   "outputs": [
    {
     "data": {
      "text/html": [
       "<div>\n",
       "<style scoped>\n",
       "    .dataframe tbody tr th:only-of-type {\n",
       "        vertical-align: middle;\n",
       "    }\n",
       "\n",
       "    .dataframe tbody tr th {\n",
       "        vertical-align: top;\n",
       "    }\n",
       "\n",
       "    .dataframe thead th {\n",
       "        text-align: right;\n",
       "    }\n",
       "</style>\n",
       "<table border=\"1\" class=\"dataframe\">\n",
       "  <thead>\n",
       "    <tr style=\"text-align: right;\">\n",
       "      <th></th>\n",
       "      <th>date</th>\n",
       "      <th>prcp</th>\n",
       "    </tr>\n",
       "  </thead>\n",
       "  <tbody>\n",
       "    <tr>\n",
       "      <th>0</th>\n",
       "      <td>2016-08-24</td>\n",
       "      <td>0.08</td>\n",
       "    </tr>\n",
       "    <tr>\n",
       "      <th>1</th>\n",
       "      <td>2016-08-24</td>\n",
       "      <td>2.15</td>\n",
       "    </tr>\n",
       "    <tr>\n",
       "      <th>2</th>\n",
       "      <td>2016-08-24</td>\n",
       "      <td>2.28</td>\n",
       "    </tr>\n",
       "    <tr>\n",
       "      <th>3</th>\n",
       "      <td>2016-08-24</td>\n",
       "      <td>0.00</td>\n",
       "    </tr>\n",
       "    <tr>\n",
       "      <th>4</th>\n",
       "      <td>2016-08-24</td>\n",
       "      <td>1.22</td>\n",
       "    </tr>\n",
       "  </tbody>\n",
       "</table>\n",
       "</div>"
      ],
      "text/plain": [
       "         date  prcp\n",
       "0  2016-08-24  0.08\n",
       "1  2016-08-24  2.15\n",
       "2  2016-08-24  2.28\n",
       "3  2016-08-24  0.00\n",
       "4  2016-08-24  1.22"
      ]
     },
     "execution_count": 139,
     "metadata": {},
     "output_type": "execute_result"
    }
   ],
   "source": [
    "rain_df.head()"
   ]
  },
  {
   "cell_type": "code",
   "execution_count": 140,
   "metadata": {},
   "outputs": [
    {
     "data": {
      "text/html": [
       "<div>\n",
       "<style scoped>\n",
       "    .dataframe tbody tr th:only-of-type {\n",
       "        vertical-align: middle;\n",
       "    }\n",
       "\n",
       "    .dataframe tbody tr th {\n",
       "        vertical-align: top;\n",
       "    }\n",
       "\n",
       "    .dataframe thead th {\n",
       "        text-align: right;\n",
       "    }\n",
       "</style>\n",
       "<table border=\"1\" class=\"dataframe\">\n",
       "  <thead>\n",
       "    <tr style=\"text-align: right;\">\n",
       "      <th></th>\n",
       "      <th>prcp</th>\n",
       "    </tr>\n",
       "    <tr>\n",
       "      <th>date</th>\n",
       "      <th></th>\n",
       "    </tr>\n",
       "  </thead>\n",
       "  <tbody>\n",
       "    <tr>\n",
       "      <th>2016-08-24</th>\n",
       "      <td>0.08</td>\n",
       "    </tr>\n",
       "    <tr>\n",
       "      <th>2016-08-24</th>\n",
       "      <td>2.15</td>\n",
       "    </tr>\n",
       "    <tr>\n",
       "      <th>2016-08-24</th>\n",
       "      <td>2.28</td>\n",
       "    </tr>\n",
       "    <tr>\n",
       "      <th>2016-08-24</th>\n",
       "      <td>0.00</td>\n",
       "    </tr>\n",
       "    <tr>\n",
       "      <th>2016-08-24</th>\n",
       "      <td>1.22</td>\n",
       "    </tr>\n",
       "    <tr>\n",
       "      <th>2016-08-24</th>\n",
       "      <td>2.15</td>\n",
       "    </tr>\n",
       "    <tr>\n",
       "      <th>2016-08-24</th>\n",
       "      <td>1.45</td>\n",
       "    </tr>\n",
       "    <tr>\n",
       "      <th>2016-08-25</th>\n",
       "      <td>0.08</td>\n",
       "    </tr>\n",
       "    <tr>\n",
       "      <th>2016-08-25</th>\n",
       "      <td>0.08</td>\n",
       "    </tr>\n",
       "    <tr>\n",
       "      <th>2016-08-25</th>\n",
       "      <td>0.00</td>\n",
       "    </tr>\n",
       "    <tr>\n",
       "      <th>2016-08-25</th>\n",
       "      <td>0.00</td>\n",
       "    </tr>\n",
       "    <tr>\n",
       "      <th>2016-08-25</th>\n",
       "      <td>0.21</td>\n",
       "    </tr>\n",
       "    <tr>\n",
       "      <th>2016-08-25</th>\n",
       "      <td>0.06</td>\n",
       "    </tr>\n",
       "    <tr>\n",
       "      <th>2016-08-25</th>\n",
       "      <td>0.11</td>\n",
       "    </tr>\n",
       "    <tr>\n",
       "      <th>2016-08-26</th>\n",
       "      <td>0.00</td>\n",
       "    </tr>\n",
       "    <tr>\n",
       "      <th>2016-08-26</th>\n",
       "      <td>0.03</td>\n",
       "    </tr>\n",
       "    <tr>\n",
       "      <th>2016-08-26</th>\n",
       "      <td>0.02</td>\n",
       "    </tr>\n",
       "    <tr>\n",
       "      <th>2016-08-26</th>\n",
       "      <td>0.04</td>\n",
       "    </tr>\n",
       "    <tr>\n",
       "      <th>2016-08-26</th>\n",
       "      <td>0.00</td>\n",
       "    </tr>\n",
       "    <tr>\n",
       "      <th>2016-08-26</th>\n",
       "      <td>0.01</td>\n",
       "    </tr>\n",
       "    <tr>\n",
       "      <th>2016-08-27</th>\n",
       "      <td>0.00</td>\n",
       "    </tr>\n",
       "    <tr>\n",
       "      <th>2016-08-27</th>\n",
       "      <td>0.18</td>\n",
       "    </tr>\n",
       "    <tr>\n",
       "      <th>2016-08-27</th>\n",
       "      <td>0.02</td>\n",
       "    </tr>\n",
       "    <tr>\n",
       "      <th>2016-08-27</th>\n",
       "      <td>0.00</td>\n",
       "    </tr>\n",
       "    <tr>\n",
       "      <th>2016-08-27</th>\n",
       "      <td>0.12</td>\n",
       "    </tr>\n",
       "    <tr>\n",
       "      <th>2016-08-27</th>\n",
       "      <td>0.00</td>\n",
       "    </tr>\n",
       "    <tr>\n",
       "      <th>2016-08-28</th>\n",
       "      <td>0.01</td>\n",
       "    </tr>\n",
       "    <tr>\n",
       "      <th>2016-08-28</th>\n",
       "      <td>0.14</td>\n",
       "    </tr>\n",
       "    <tr>\n",
       "      <th>2016-08-28</th>\n",
       "      <td>0.14</td>\n",
       "    </tr>\n",
       "    <tr>\n",
       "      <th>2016-08-28</th>\n",
       "      <td>0.14</td>\n",
       "    </tr>\n",
       "    <tr>\n",
       "      <th>...</th>\n",
       "      <td>...</td>\n",
       "    </tr>\n",
       "    <tr>\n",
       "      <th>2017-08-16</th>\n",
       "      <td>0.00</td>\n",
       "    </tr>\n",
       "    <tr>\n",
       "      <th>2017-08-16</th>\n",
       "      <td>0.07</td>\n",
       "    </tr>\n",
       "    <tr>\n",
       "      <th>2017-08-16</th>\n",
       "      <td>0.12</td>\n",
       "    </tr>\n",
       "    <tr>\n",
       "      <th>2017-08-16</th>\n",
       "      <td>0.42</td>\n",
       "    </tr>\n",
       "    <tr>\n",
       "      <th>2017-08-17</th>\n",
       "      <td>0.00</td>\n",
       "    </tr>\n",
       "    <tr>\n",
       "      <th>2017-08-17</th>\n",
       "      <td>0.05</td>\n",
       "    </tr>\n",
       "    <tr>\n",
       "      <th>2017-08-17</th>\n",
       "      <td>0.01</td>\n",
       "    </tr>\n",
       "    <tr>\n",
       "      <th>2017-08-17</th>\n",
       "      <td>0.13</td>\n",
       "    </tr>\n",
       "    <tr>\n",
       "      <th>2017-08-18</th>\n",
       "      <td>0.00</td>\n",
       "    </tr>\n",
       "    <tr>\n",
       "      <th>2017-08-18</th>\n",
       "      <td>0.00</td>\n",
       "    </tr>\n",
       "    <tr>\n",
       "      <th>2017-08-18</th>\n",
       "      <td>0.06</td>\n",
       "    </tr>\n",
       "    <tr>\n",
       "      <th>2017-08-18</th>\n",
       "      <td>0.00</td>\n",
       "    </tr>\n",
       "    <tr>\n",
       "      <th>2017-08-19</th>\n",
       "      <td>0.00</td>\n",
       "    </tr>\n",
       "    <tr>\n",
       "      <th>2017-08-19</th>\n",
       "      <td>0.00</td>\n",
       "    </tr>\n",
       "    <tr>\n",
       "      <th>2017-08-19</th>\n",
       "      <td>0.00</td>\n",
       "    </tr>\n",
       "    <tr>\n",
       "      <th>2017-08-19</th>\n",
       "      <td>0.09</td>\n",
       "    </tr>\n",
       "    <tr>\n",
       "      <th>2017-08-20</th>\n",
       "      <td>0.00</td>\n",
       "    </tr>\n",
       "    <tr>\n",
       "      <th>2017-08-20</th>\n",
       "      <td>0.01</td>\n",
       "    </tr>\n",
       "    <tr>\n",
       "      <th>2017-08-20</th>\n",
       "      <td>0.00</td>\n",
       "    </tr>\n",
       "    <tr>\n",
       "      <th>2017-08-21</th>\n",
       "      <td>0.00</td>\n",
       "    </tr>\n",
       "    <tr>\n",
       "      <th>2017-08-21</th>\n",
       "      <td>0.02</td>\n",
       "    </tr>\n",
       "    <tr>\n",
       "      <th>2017-08-21</th>\n",
       "      <td>0.00</td>\n",
       "    </tr>\n",
       "    <tr>\n",
       "      <th>2017-08-21</th>\n",
       "      <td>0.56</td>\n",
       "    </tr>\n",
       "    <tr>\n",
       "      <th>2017-08-22</th>\n",
       "      <td>0.00</td>\n",
       "    </tr>\n",
       "    <tr>\n",
       "      <th>2017-08-22</th>\n",
       "      <td>0.00</td>\n",
       "    </tr>\n",
       "    <tr>\n",
       "      <th>2017-08-22</th>\n",
       "      <td>0.50</td>\n",
       "    </tr>\n",
       "    <tr>\n",
       "      <th>2017-08-23</th>\n",
       "      <td>0.00</td>\n",
       "    </tr>\n",
       "    <tr>\n",
       "      <th>2017-08-23</th>\n",
       "      <td>0.00</td>\n",
       "    </tr>\n",
       "    <tr>\n",
       "      <th>2017-08-23</th>\n",
       "      <td>0.08</td>\n",
       "    </tr>\n",
       "    <tr>\n",
       "      <th>2017-08-23</th>\n",
       "      <td>0.45</td>\n",
       "    </tr>\n",
       "  </tbody>\n",
       "</table>\n",
       "<p>2223 rows × 1 columns</p>\n",
       "</div>"
      ],
      "text/plain": [
       "            prcp\n",
       "date            \n",
       "2016-08-24  0.08\n",
       "2016-08-24  2.15\n",
       "2016-08-24  2.28\n",
       "2016-08-24  0.00\n",
       "2016-08-24  1.22\n",
       "2016-08-24  2.15\n",
       "2016-08-24  1.45\n",
       "2016-08-25  0.08\n",
       "2016-08-25  0.08\n",
       "2016-08-25  0.00\n",
       "2016-08-25  0.00\n",
       "2016-08-25  0.21\n",
       "2016-08-25  0.06\n",
       "2016-08-25  0.11\n",
       "2016-08-26  0.00\n",
       "2016-08-26  0.03\n",
       "2016-08-26  0.02\n",
       "2016-08-26  0.04\n",
       "2016-08-26  0.00\n",
       "2016-08-26  0.01\n",
       "2016-08-27  0.00\n",
       "2016-08-27  0.18\n",
       "2016-08-27  0.02\n",
       "2016-08-27  0.00\n",
       "2016-08-27  0.12\n",
       "2016-08-27  0.00\n",
       "2016-08-28  0.01\n",
       "2016-08-28  0.14\n",
       "2016-08-28  0.14\n",
       "2016-08-28  0.14\n",
       "...          ...\n",
       "2017-08-16  0.00\n",
       "2017-08-16  0.07\n",
       "2017-08-16  0.12\n",
       "2017-08-16  0.42\n",
       "2017-08-17  0.00\n",
       "2017-08-17  0.05\n",
       "2017-08-17  0.01\n",
       "2017-08-17  0.13\n",
       "2017-08-18  0.00\n",
       "2017-08-18  0.00\n",
       "2017-08-18  0.06\n",
       "2017-08-18  0.00\n",
       "2017-08-19  0.00\n",
       "2017-08-19  0.00\n",
       "2017-08-19  0.00\n",
       "2017-08-19  0.09\n",
       "2017-08-20  0.00\n",
       "2017-08-20  0.01\n",
       "2017-08-20  0.00\n",
       "2017-08-21  0.00\n",
       "2017-08-21  0.02\n",
       "2017-08-21  0.00\n",
       "2017-08-21  0.56\n",
       "2017-08-22  0.00\n",
       "2017-08-22  0.00\n",
       "2017-08-22  0.50\n",
       "2017-08-23  0.00\n",
       "2017-08-23  0.00\n",
       "2017-08-23  0.08\n",
       "2017-08-23  0.45\n",
       "\n",
       "[2223 rows x 1 columns]"
      ]
     },
     "execution_count": 140,
     "metadata": {},
     "output_type": "execute_result"
    }
   ],
   "source": [
    "rain_df_date = rain_df.set_index('date')\n",
    "rain_df_date"
   ]
  },
  {
   "cell_type": "code",
   "execution_count": 141,
   "metadata": {},
   "outputs": [],
   "source": [
    "# Sort the dataframe by date\n",
    "rain_df_date = rain_df_date.sort_index(ascending=True)"
   ]
  },
  {
   "cell_type": "code",
   "execution_count": null,
   "metadata": {},
   "outputs": [],
   "source": []
  },
  {
   "cell_type": "code",
   "execution_count": 144,
   "metadata": {},
   "outputs": [
    {
     "data": {
      "image/png": "[encoded data removed]",
      "text/plain": [
       "<Figure size 1008x720 with 1 Axes>"
      ]
     },
     "metadata": {
      "needs_background": "light"
     },
     "output_type": "display_data"
    }
   ],
   "source": [
    "# Use Pandas Plotting with Matplotlib to plot the data\n",
    "rain_df_date.plot(figsize=(14,10))\n",
    "plt.xlabel(\"Date\")\n",
    "plt.ylabel(\"Rain (Inches)\")\n",
    "plt.title(\"Rain Totals from 8/24/16 to 8/23/17\")\n",
    "plt.legend([\"Precipitation\"], loc=\"upper center\")\n",
    "plt.xticks(rotation=45)\n",
    "plt.show()\n"
   ]
  },
  {
   "cell_type": "code",
   "execution_count": 143,
   "metadata": {},
   "outputs": [
    {
     "data": {
      "text/html": [
       "<div>\n",
       "<style scoped>\n",
       "    .dataframe tbody tr th:only-of-type {\n",
       "        vertical-align: middle;\n",
       "    }\n",
       "\n",
       "    .dataframe tbody tr th {\n",
       "        vertical-align: top;\n",
       "    }\n",
       "\n",
       "    .dataframe thead th {\n",
       "        text-align: right;\n",
       "    }\n",
       "</style>\n",
       "<table border=\"1\" class=\"dataframe\">\n",
       "  <thead>\n",
       "    <tr style=\"text-align: right;\">\n",
       "      <th></th>\n",
       "      <th>prcp</th>\n",
       "    </tr>\n",
       "  </thead>\n",
       "  <tbody>\n",
       "    <tr>\n",
       "      <th>count</th>\n",
       "      <td>2223.000000</td>\n",
       "    </tr>\n",
       "    <tr>\n",
       "      <th>mean</th>\n",
       "      <td>0.159951</td>\n",
       "    </tr>\n",
       "    <tr>\n",
       "      <th>std</th>\n",
       "      <td>0.441220</td>\n",
       "    </tr>\n",
       "    <tr>\n",
       "      <th>min</th>\n",
       "      <td>0.000000</td>\n",
       "    </tr>\n",
       "    <tr>\n",
       "      <th>25%</th>\n",
       "      <td>0.000000</td>\n",
       "    </tr>\n",
       "    <tr>\n",
       "      <th>50%</th>\n",
       "      <td>0.010000</td>\n",
       "    </tr>\n",
       "    <tr>\n",
       "      <th>75%</th>\n",
       "      <td>0.110000</td>\n",
       "    </tr>\n",
       "    <tr>\n",
       "      <th>max</th>\n",
       "      <td>6.700000</td>\n",
       "    </tr>\n",
       "  </tbody>\n",
       "</table>\n",
       "</div>"
      ],
      "text/plain": [
       "              prcp\n",
       "count  2223.000000\n",
       "mean      0.159951\n",
       "std       0.441220\n",
       "min       0.000000\n",
       "25%       0.000000\n",
       "50%       0.010000\n",
       "75%       0.110000\n",
       "max       6.700000"
      ]
     },
     "execution_count": 143,
     "metadata": {},
     "output_type": "execute_result"
    }
   ],
   "source": [
    "# Use Pandas to calcualte the summary statistics for the precipitation data\n",
    "rain_df_date.describe()"
   ]
  },
  {
   "cell_type": "code",
   "execution_count": 145,
   "metadata": {},
   "outputs": [],
   "source": [
    "# Design a query to show how many stations are available in this dataset?\n",
    "num_stations = session.query(Station).count()"
   ]
  },
  {
   "cell_type": "code",
   "execution_count": 146,
   "metadata": {},
   "outputs": [
    {
     "name": "stdout",
     "output_type": "stream",
     "text": [
      "9\n"
     ]
    }
   ],
   "source": [
    "print(num_stations)"
   ]
  },
  {
   "cell_type": "code",
   "execution_count": 160,
   "metadata": {},
   "outputs": [],
   "source": [
    "# What are the most active stations? (i.e. what stations have the most rows)?\n",
    "# List the stations and the counts in descending order.\n",
    "\n",
    "stations = (session.query(Measurement.station, func.count(Measurement.station)).group_by(Measurement.station).\\\n",
    "                        order_by(func.count(Measurement.station).desc()).all())"
   ]
  },
  {
   "cell_type": "code",
   "execution_count": 149,
   "metadata": {},
   "outputs": [
    {
     "name": "stdout",
     "output_type": "stream",
     "text": [
      "[('USC00519281', 2772), ('USC00519397', 2724), ('USC00513117', 2709), ('USC00519523', 2669), ('USC00516128', 2612), ('USC00514830', 2202), ('USC00511918', 1979), ('USC00517948', 1372), ('USC00518838', 511)]\n"
     ]
    }
   ],
   "source": [
    "print(stations)"
   ]
  },
  {
   "cell_type": "code",
   "execution_count": 152,
   "metadata": {},
   "outputs": [
    {
     "name": "stdout",
     "output_type": "stream",
     "text": [
      "USC00519281\n"
     ]
    }
   ],
   "source": [
    "active_station = stations[0][0]\n",
    "print(active_station)"
   ]
  },
  {
   "cell_type": "code",
   "execution_count": 154,
   "metadata": {},
   "outputs": [],
   "source": [
    "# Using the station id from the previous query, calculate the lowest temperature recorded, \n",
    "# highest temperature recorded, and average temperature most active station?\n",
    "\n",
    "active_temp = session.query(func.min(Measurement.tobs), func.max(Measurement.tobs),\n",
    "                                  func.avg(Measurement.tobs)).filter(Measurement.station == active_station).all()"
   ]
  },
  {
   "cell_type": "code",
   "execution_count": 155,
   "metadata": {},
   "outputs": [
    {
     "name": "stdout",
     "output_type": "stream",
     "text": [
      "[(54.0, 85.0, 71.66378066378067)]\n"
     ]
    }
   ],
   "source": [
    "print(active_temp)"
   ]
  },
  {
   "cell_type": "code",
   "execution_count": 162,
   "metadata": {},
   "outputs": [],
   "source": [
    "# Choose the station with the highest number of temperature observations.\n",
    "\n",
    "max_temp_station = session.query(Measurement.station, \n",
    "                    func.count(Measurement.tobs)).group_by(Measurement.station).\\\n",
    "                    order_by(func.count(Measurement.station).desc()).first()"
   ]
  },
  {
   "cell_type": "code",
   "execution_count": 158,
   "metadata": {},
   "outputs": [],
   "source": [
    "max_temp_station= max_temp_station[0]"
   ]
  },
  {
   "cell_type": "code",
   "execution_count": 159,
   "metadata": {},
   "outputs": [
    {
     "name": "stdout",
     "output_type": "stream",
     "text": [
      "USC00519281\n"
     ]
    }
   ],
   "source": [
    "print(max_temp_station)"
   ]
  },
  {
   "cell_type": "code",
   "execution_count": 164,
   "metadata": {},
   "outputs": [],
   "source": [
    "# Query the last 12 months of temperature observation data for this station and plot the results as a histogram\n",
    "temp = (session.query(Measurement.date, Measurement.tobs)\n",
    "                   .filter(Measurement.date > last_year)\n",
    "                   .filter(Measurement.station == active_station)\n",
    "                   .order_by(Measurement.date)\n",
    "                   .all())"
   ]
  },
  {
   "cell_type": "code",
   "execution_count": 165,
   "metadata": {},
   "outputs": [
    {
     "name": "stdout",
     "output_type": "stream",
     "text": [
      "[('2016-08-24', 77.0), ('2016-08-25', 80.0), ('2016-08-26', 80.0), ('2016-08-27', 75.0), ('2016-08-28', 73.0), ('2016-08-29', 78.0), ('2016-08-30', 77.0), ('2016-08-31', 78.0), ('2016-09-01', 80.0), ('2016-09-02', 80.0), ('2016-09-03', 78.0), ('2016-09-04', 78.0), ('2016-09-05', 78.0), ('2016-09-06', 73.0), ('2016-09-07', 74.0), ('2016-09-08', 80.0), ('2016-09-09', 79.0), ('2016-09-10', 77.0), ('2016-09-11', 80.0), ('2016-09-12', 76.0), ('2016-09-13', 79.0), ('2016-09-14', 75.0), ('2016-09-15', 79.0), ('2016-09-16', 78.0), ('2016-09-17', 79.0), ('2016-09-18', 78.0), ('2016-09-19', 78.0), ('2016-09-20', 76.0), ('2016-09-21', 74.0), ('2016-09-22', 77.0), ('2016-09-23', 78.0), ('2016-09-24', 79.0), ('2016-09-25', 79.0), ('2016-09-26', 77.0), ('2016-09-27', 80.0), ('2016-09-28', 78.0), ('2016-09-29', 78.0), ('2016-09-30', 78.0), ('2016-10-01', 77.0), ('2016-10-02', 79.0), ('2016-10-03', 79.0), ('2016-10-04', 79.0), ('2016-10-05', 79.0), ('2016-10-06', 75.0), ('2016-10-07', 76.0), ('2016-10-08', 73.0), ('2016-10-09', 72.0), ('2016-10-10', 71.0), ('2016-10-11', 77.0), ('2016-10-12', 79.0), ('2016-10-13', 78.0), ('2016-10-14', 79.0), ('2016-10-15', 77.0), ('2016-10-16', 79.0), ('2016-10-17', 77.0), ('2016-10-18', 78.0), ('2016-10-19', 78.0), ('2016-10-20', 78.0), ('2016-10-21', 78.0), ('2016-10-22', 77.0), ('2016-10-23', 74.0), ('2016-10-24', 75.0), ('2016-10-25', 76.0), ('2016-10-26', 73.0), ('2016-10-27', 76.0), ('2016-10-28', 74.0), ('2016-10-29', 77.0), ('2016-10-30', 76.0), ('2016-10-31', 76.0), ('2016-11-01', 74.0), ('2016-11-02', 75.0), ('2016-11-03', 75.0), ('2016-11-04', 75.0), ('2016-11-05', 75.0), ('2016-11-06', 71.0), ('2016-11-07', 63.0), ('2016-11-08', 70.0), ('2016-11-09', 68.0), ('2016-11-10', 67.0), ('2016-11-11', 77.0), ('2016-11-12', 74.0), ('2016-11-13', 77.0), ('2016-11-14', 76.0), ('2016-11-15', 76.0), ('2016-11-16', 75.0), ('2016-11-17', 76.0), ('2016-11-18', 75.0), ('2016-11-19', 73.0), ('2016-11-20', 75.0), ('2016-11-21', 73.0), ('2016-11-22', 75.0), ('2016-11-23', 74.0), ('2016-11-24', 75.0), ('2016-11-25', 74.0), ('2016-11-26', 75.0), ('2016-11-27', 73.0), ('2016-11-28', 75.0), ('2016-11-29', 73.0), ('2016-11-30', 73.0), ('2016-12-01', 74.0), ('2016-12-02', 70.0), ('2016-12-03', 72.0), ('2016-12-04', 70.0), ('2016-12-05', 67.0), ('2016-12-06', 67.0), ('2016-12-07', 69.0), ('2016-12-08', 70.0), ('2016-12-09', 68.0), ('2016-12-10', 69.0), ('2016-12-11', 69.0), ('2016-12-12', 66.0), ('2016-12-13', 65.0), ('2016-12-14', 68.0), ('2016-12-15', 62.0), ('2016-12-16', 75.0), ('2016-12-17', 70.0), ('2016-12-18', 69.0), ('2016-12-19', 76.0), ('2016-12-20', 76.0), ('2016-12-21', 74.0), ('2016-12-22', 73.0), ('2016-12-23', 71.0), ('2016-12-24', 74.0), ('2016-12-25', 74.0), ('2016-12-26', 72.0), ('2016-12-27', 71.0), ('2016-12-28', 72.0), ('2016-12-29', 74.0), ('2016-12-30', 69.0), ('2016-12-31', 67.0), ('2017-01-01', 72.0), ('2017-01-02', 70.0), ('2017-01-03', 64.0), ('2017-01-04', 63.0), ('2017-01-05', 63.0), ('2017-01-06', 62.0), ('2017-01-07', 70.0), ('2017-01-08', 70.0), ('2017-01-09', 62.0), ('2017-01-10', 62.0), ('2017-01-11', 63.0), ('2017-01-12', 65.0), ('2017-01-13', 69.0), ('2017-01-14', 77.0), ('2017-01-15', 70.0), ('2017-01-16', 74.0), ('2017-01-17', 69.0), ('2017-01-18', 72.0), ('2017-01-19', 71.0), ('2017-01-20', 69.0), ('2017-01-21', 71.0), ('2017-01-22', 71.0), ('2017-01-23', 72.0), ('2017-01-24', 72.0), ('2017-01-25', 69.0), ('2017-01-26', 70.0), ('2017-01-27', 66.0), ('2017-01-28', 65.0), ('2017-01-29', 69.0), ('2017-01-30', 68.0), ('2017-01-31', 68.0), ('2017-02-01', 68.0), ('2017-02-02', 59.0), ('2017-02-03', 60.0), ('2017-02-04', 70.0), ('2017-02-05', 73.0), ('2017-02-06', 75.0), ('2017-02-07', 64.0), ('2017-02-08', 59.0), ('2017-02-09', 59.0), ('2017-02-10', 62.0), ('2017-02-11', 68.0), ('2017-02-12', 70.0), ('2017-02-13', 73.0), ('2017-02-14', 79.0), ('2017-02-15', 75.0), ('2017-02-16', 65.0), ('2017-02-17', 70.0), ('2017-02-18', 74.0), ('2017-02-19', 70.0), ('2017-02-20', 70.0), ('2017-02-21', 71.0), ('2017-02-22', 71.0), ('2017-02-23', 71.0), ('2017-02-24', 69.0), ('2017-02-25', 61.0), ('2017-02-26', 67.0), ('2017-02-27', 65.0), ('2017-02-28', 72.0), ('2017-03-01', 71.0), ('2017-03-02', 73.0), ('2017-03-03', 72.0), ('2017-03-04', 77.0), ('2017-03-05', 73.0), ('2017-03-06', 67.0), ('2017-03-07', 62.0), ('2017-03-08', 64.0), ('2017-03-09', 67.0), ('2017-03-10', 66.0), ('2017-03-11', 81.0), ('2017-03-12', 69.0), ('2017-03-13', 66.0), ('2017-03-14', 67.0), ('2017-03-15', 69.0), ('2017-03-16', 66.0), ('2017-03-17', 68.0), ('2017-03-18', 65.0), ('2017-03-19', 74.0), ('2017-03-20', 69.0), ('2017-03-21', 72.0), ('2017-03-22', 73.0), ('2017-03-23', 72.0), ('2017-03-24', 71.0), ('2017-03-25', 76.0), ('2017-03-26', 77.0), ('2017-03-27', 76.0), ('2017-03-28', 74.0), ('2017-03-29', 68.0), ('2017-03-30', 73.0), ('2017-03-31', 71.0), ('2017-04-01', 74.0), ('2017-04-02', 75.0), ('2017-04-03', 70.0), ('2017-04-04', 67.0), ('2017-04-05', 71.0), ('2017-04-06', 67.0), ('2017-04-07', 74.0), ('2017-04-08', 77.0), ('2017-04-09', 78.0), ('2017-04-10', 67.0), ('2017-04-11', 70.0), ('2017-04-12', 69.0), ('2017-04-13', 69.0), ('2017-04-14', 74.0), ('2017-04-15', 78.0), ('2017-04-16', 71.0), ('2017-04-17', 67.0), ('2017-04-18', 68.0), ('2017-04-19', 67.0), ('2017-04-20', 76.0), ('2017-04-21', 69.0), ('2017-04-22', 72.0), ('2017-04-23', 76.0), ('2017-04-24', 68.0), ('2017-04-25', 72.0), ('2017-04-26', 74.0), ('2017-04-27', 70.0), ('2017-04-28', 67.0), ('2017-04-29', 72.0), ('2017-04-30', 60.0), ('2017-05-01', 65.0), ('2017-05-02', 75.0), ('2017-05-03', 70.0), ('2017-05-04', 75.0), ('2017-05-05', 70.0), ('2017-05-06', 79.0), ('2017-05-07', 75.0), ('2017-05-08', 70.0), ('2017-05-09', 67.0), ('2017-05-10', 74.0), ('2017-05-11', 70.0), ('2017-05-12', 75.0), ('2017-05-13', 76.0), ('2017-05-14', 77.0), ('2017-05-15', 74.0), ('2017-05-16', 74.0), ('2017-05-17', 74.0), ('2017-05-18', 69.0), ('2017-05-19', 68.0), ('2017-05-20', 76.0), ('2017-05-21', 74.0), ('2017-05-22', 71.0), ('2017-05-23', 71.0), ('2017-05-24', 74.0), ('2017-05-25', 74.0), ('2017-05-26', 74.0), ('2017-05-27', 74.0), ('2017-05-28', 80.0), ('2017-05-29', 74.0), ('2017-05-30', 72.0), ('2017-05-31', 75.0), ('2017-06-01', 80.0), ('2017-06-02', 76.0), ('2017-06-03', 76.0), ('2017-06-04', 77.0), ('2017-06-05', 75.0), ('2017-06-06', 75.0), ('2017-06-07', 75.0), ('2017-06-08', 75.0), ('2017-06-09', 72.0), ('2017-06-10', 74.0), ('2017-06-11', 74.0), ('2017-06-12', 74.0), ('2017-06-13', 76.0), ('2017-06-14', 74.0), ('2017-06-15', 75.0), ('2017-06-16', 73.0), ('2017-06-17', 79.0), ('2017-06-18', 75.0), ('2017-06-19', 72.0), ('2017-06-20', 72.0), ('2017-06-21', 74.0), ('2017-06-22', 72.0), ('2017-06-23', 72.0), ('2017-06-24', 77.0), ('2017-06-25', 71.0), ('2017-06-26', 73.0), ('2017-06-27', 76.0), ('2017-06-28', 77.0), ('2017-06-29', 76.0), ('2017-06-30', 76.0), ('2017-07-01', 79.0), ('2017-07-02', 81.0), ('2017-07-03', 76.0), ('2017-07-04', 78.0), ('2017-07-05', 77.0), ('2017-07-06', 74.0), ('2017-07-07', 75.0), ('2017-07-08', 78.0), ('2017-07-09', 78.0), ('2017-07-10', 69.0), ('2017-07-11', 72.0), ('2017-07-12', 74.0), ('2017-07-13', 74.0), ('2017-07-14', 76.0), ('2017-07-15', 80.0), ('2017-07-16', 80.0), ('2017-07-17', 76.0), ('2017-07-18', 76.0), ('2017-07-19', 76.0), ('2017-07-20', 77.0), ('2017-07-21', 77.0), ('2017-07-22', 77.0), ('2017-07-23', 82.0), ('2017-07-24', 75.0), ('2017-07-25', 77.0), ('2017-07-26', 75.0), ('2017-07-27', 76.0), ('2017-07-28', 81.0), ('2017-07-29', 82.0), ('2017-07-30', 81.0), ('2017-07-31', 76.0), ('2017-08-04', 77.0), ('2017-08-05', 82.0), ('2017-08-06', 83.0), ('2017-08-13', 77.0), ('2017-08-14', 77.0), ('2017-08-15', 77.0), ('2017-08-16', 76.0), ('2017-08-17', 76.0), ('2017-08-18', 79.0)]\n"
     ]
    }
   ],
   "source": [
    "print(temp)"
   ]
  },
  {
   "cell_type": "code",
   "execution_count": 171,
   "metadata": {},
   "outputs": [],
   "source": [
    "temp_df = pd.DataFrame(temp)\n",
    "temp_df = temp_df.set_index('date')"
   ]
  },
  {
   "cell_type": "code",
   "execution_count": 172,
   "metadata": {},
   "outputs": [
    {
     "data": {
      "text/html": [
       "<div>\n",
       "<style scoped>\n",
       "    .dataframe tbody tr th:only-of-type {\n",
       "        vertical-align: middle;\n",
       "    }\n",
       "\n",
       "    .dataframe tbody tr th {\n",
       "        vertical-align: top;\n",
       "    }\n",
       "\n",
       "    .dataframe thead th {\n",
       "        text-align: right;\n",
       "    }\n",
       "</style>\n",
       "<table border=\"1\" class=\"dataframe\">\n",
       "  <thead>\n",
       "    <tr style=\"text-align: right;\">\n",
       "      <th></th>\n",
       "      <th>tobs</th>\n",
       "    </tr>\n",
       "    <tr>\n",
       "      <th>date</th>\n",
       "      <th></th>\n",
       "    </tr>\n",
       "  </thead>\n",
       "  <tbody>\n",
       "    <tr>\n",
       "      <th>2016-08-24</th>\n",
       "      <td>77.0</td>\n",
       "    </tr>\n",
       "    <tr>\n",
       "      <th>2016-08-25</th>\n",
       "      <td>80.0</td>\n",
       "    </tr>\n",
       "    <tr>\n",
       "      <th>2016-08-26</th>\n",
       "      <td>80.0</td>\n",
       "    </tr>\n",
       "    <tr>\n",
       "      <th>2016-08-27</th>\n",
       "      <td>75.0</td>\n",
       "    </tr>\n",
       "    <tr>\n",
       "      <th>2016-08-28</th>\n",
       "      <td>73.0</td>\n",
       "    </tr>\n",
       "  </tbody>\n",
       "</table>\n",
       "</div>"
      ],
      "text/plain": [
       "            tobs\n",
       "date            \n",
       "2016-08-24  77.0\n",
       "2016-08-25  80.0\n",
       "2016-08-26  80.0\n",
       "2016-08-27  75.0\n",
       "2016-08-28  73.0"
      ]
     },
     "execution_count": 172,
     "metadata": {},
     "output_type": "execute_result"
    }
   ],
   "source": [
    "temp_df.head()"
   ]
  },
  {
   "cell_type": "code",
   "execution_count": 173,
   "metadata": {},
   "outputs": [
    {
     "data": {
      "text/plain": [
       "<matplotlib.axes._subplots.AxesSubplot at 0x120d3d7b8>"
      ]
     },
     "execution_count": 173,
     "metadata": {},
     "output_type": "execute_result"
    },
    {
     "data": {
      "image/png": "[encoded data removed]",
      "text/plain": [
       "<Figure size 432x288 with 1 Axes>"
      ]
     },
     "metadata": {
      "needs_background": "light"
     },
     "output_type": "display_data"
    }
   ],
   "source": [
    "temp_df.plot(kind='hist', bins=12)"
   ]
  },
  {
   "cell_type": "code",
   "execution_count": 199,
   "metadata": {},
   "outputs": [
    {
     "name": "stdout",
     "output_type": "stream",
     "text": [
      "[(62.0, 69.57142857142857, 74.0)]\n"
     ]
    }
   ],
   "source": [
    "# This function called `calc_temps` will accept start date and end date in the format '%Y-%m-%d' \n",
    "# and return the minimum, average, and maximum temperatures for that range of dates\n",
    "def calc_temps(start_date, end_date):\n",
    "    \"\"\"TMIN, TAVG, and TMAX for a list of dates.\n",
    "    \n",
    "    Args:\n",
    "        start_date (string): A date string in the format %Y-%m-%d\n",
    "        end_date (string): A date string in the format %Y-%m-%d\n",
    "        \n",
    "    Returns:\n",
    "        TMIN, TAVE, and TMAX\n",
    "    \"\"\"\n",
    "    \n",
    "    return session.query(func.min(Measurement.tobs), func.avg(Measurement.tobs), func.max(Measurement.tobs)).\\\n",
    "        filter(Measurement.date >= start_date).filter(Measurement.date <= end_date).all()\n",
    "\n",
    "# function usage example\n",
    "print(calc_temps('2012-02-28', '2012-03-05'))"
   ]
  },
  {
   "cell_type": "code",
   "execution_count": 214,
   "metadata": {},
   "outputs": [],
   "source": [
    "trip_start = dt.date(2019, 12, 20)\n",
    "trip_end = dt.date(2019, 12, 27)\n",
    "last_year = dt.timedelta(days=1095)\n",
    "my_trip = (calc_temps((trip_start-last_year), (trip_end-last_year)))"
   ]
  },
  {
   "cell_type": "code",
   "execution_count": 215,
   "metadata": {},
   "outputs": [
    {
     "name": "stdout",
     "output_type": "stream",
     "text": [
      "[(68.0, 73.01960784313725, 78.0)]\n"
     ]
    }
   ],
   "source": [
    "print(my_trip)"
   ]
  },
  {
   "cell_type": "code",
   "execution_count": 218,
   "metadata": {},
   "outputs": [],
   "source": []
  },
  {
   "cell_type": "code",
   "execution_count": null,
   "metadata": {},
   "outputs": [],
   "source": []
  }
 ],
 "metadata": {
  "kernelspec": {
   "display_name": "Python 3",
   "language": "python",
   "name": "python3"
  },
  "language_info": {
   "codemirror_mode": {
    "name": "ipython",
    "version": 3
   },
   "file_extension": ".py",
   "mimetype": "text/x-python",
   "name": "python",
   "nbconvert_exporter": "python",
   "pygments_lexer": "ipython3",
   "version": "3.7.3"
  }
 },
 "nbformat": 4,
 "nbformat_minor": 2
}
